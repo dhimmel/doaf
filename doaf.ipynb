{
 "cells": [
  {
   "cell_type": "markdown",
   "metadata": {},
   "source": [
    "# Processing gene-disease relationships from [DOAF](https://dx.doi.org/10.1371/journal.pone.0049686)"
   ]
  },
  {
   "cell_type": "code",
   "execution_count": 1,
   "metadata": {
    "collapsed": true
   },
   "outputs": [],
   "source": [
    "import pandas"
   ]
  },
  {
   "cell_type": "code",
   "execution_count": 2,
   "metadata": {
    "collapsed": false
   },
   "outputs": [],
   "source": [
    "# Downloaded from http://doa.nubic.northwestern.edu/pages/download.php\n",
    "doaf_df = pandas.read_table('download/IDMappings.txt.gz', compression='gzip', dtype={'#DOID': str})\n",
    "doaf_df = doaf_df.rename(columns={'#DOID': 'doid_code', 'Gene ID': 'GeneID'})\n",
    "doaf_df.doid_code = 'DOID:' + doaf_df.doid_code"
   ]
  },
  {
   "cell_type": "code",
   "execution_count": 3,
   "metadata": {
    "collapsed": false
   },
   "outputs": [
    {
     "data": {
      "text/html": [
       "<div>\n",
       "<table border=\"1\" class=\"dataframe\">\n",
       "  <thead>\n",
       "    <tr style=\"text-align: right;\">\n",
       "      <th></th>\n",
       "      <th>doid_code</th>\n",
       "      <th>GeneID</th>\n",
       "      <th>PubMed ID</th>\n",
       "      <th>GeneRIF Text</th>\n",
       "    </tr>\n",
       "  </thead>\n",
       "  <tbody>\n",
       "    <tr>\n",
       "      <th>144230</th>\n",
       "      <td>DOID:9993</td>\n",
       "      <td>1636</td>\n",
       "      <td>20546161</td>\n",
       "      <td>A strong association was found between ACE gen...</td>\n",
       "    </tr>\n",
       "    <tr>\n",
       "      <th>144231</th>\n",
       "      <td>DOID:9993</td>\n",
       "      <td>1636</td>\n",
       "      <td>21289265</td>\n",
       "      <td>ACE DD genotype was associated with an approxi...</td>\n",
       "    </tr>\n",
       "    <tr>\n",
       "      <th>144232</th>\n",
       "      <td>DOID:9993</td>\n",
       "      <td>3033</td>\n",
       "      <td>21252247</td>\n",
       "      <td>We recommend that HADH sequence analysis is co...</td>\n",
       "    </tr>\n",
       "    <tr>\n",
       "      <th>144233</th>\n",
       "      <td>DOID:9993</td>\n",
       "      <td>150</td>\n",
       "      <td>21298412</td>\n",
       "      <td>Antecedent hypoglycaemia did not affect beta(2...</td>\n",
       "    </tr>\n",
       "    <tr>\n",
       "      <th>144234</th>\n",
       "      <td>DOID:9993</td>\n",
       "      <td>948</td>\n",
       "      <td>20947105</td>\n",
       "      <td>These results suggested that type I CD36 defic...</td>\n",
       "    </tr>\n",
       "  </tbody>\n",
       "</table>\n",
       "</div>"
      ],
      "text/plain": [
       "        doid_code  GeneID  PubMed ID  \\\n",
       "144230  DOID:9993    1636   20546161   \n",
       "144231  DOID:9993    1636   21289265   \n",
       "144232  DOID:9993    3033   21252247   \n",
       "144233  DOID:9993     150   21298412   \n",
       "144234  DOID:9993     948   20947105   \n",
       "\n",
       "                                             GeneRIF Text  \n",
       "144230  A strong association was found between ACE gen...  \n",
       "144231  ACE DD genotype was associated with an approxi...  \n",
       "144232  We recommend that HADH sequence analysis is co...  \n",
       "144233  Antecedent hypoglycaemia did not affect beta(2...  \n",
       "144234  These results suggested that type I CD36 defic...  "
      ]
     },
     "execution_count": 3,
     "metadata": {},
     "output_type": "execute_result"
    }
   ],
   "source": [
    "doaf_df.tail()"
   ]
  },
  {
   "cell_type": "code",
   "execution_count": 4,
   "metadata": {
    "collapsed": false
   },
   "outputs": [],
   "source": [
    "grouped_df = doaf_df.groupby(['doid_code', 'GeneID']).apply(\n",
    "    lambda x: pandas.Series({'count': len(x)})).reset_index()"
   ]
  },
  {
   "cell_type": "code",
   "execution_count": 5,
   "metadata": {
    "collapsed": false
   },
   "outputs": [],
   "source": [
    "# Read disease ontology terms\n",
    "url = 'https://raw.githubusercontent.com/dhimmel/disease-ontology/72614ade9f1cc5a5317b8f6836e1e464b31d5587/data/term-names.tsv'\n",
    "do_df = pandas.read_table(url)\n",
    "do_df = do_df[do_df.type == 'name'][['doid', 'name']].rename(columns={'doid': 'doid_code', 'name': 'doid_name'})"
   ]
  },
  {
   "cell_type": "code",
   "execution_count": 6,
   "metadata": {
    "collapsed": false
   },
   "outputs": [],
   "source": [
    "# Read entrez genes\n",
    "url = 'https://raw.githubusercontent.com/dhimmel/entrez-gene/6e133f9ef8ce51a4c5387e58a6cc97564a66cec8/data/genes-human.tsv'\n",
    "entrez_df = pandas.read_table(url)\n",
    "entrez_df = entrez_df[entrez_df.type_of_gene == 'protein-coding'][['GeneID', 'Symbol']]"
   ]
  },
  {
   "cell_type": "code",
   "execution_count": 7,
   "metadata": {
    "collapsed": false
   },
   "outputs": [],
   "source": [
    "grouped_df = do_df.merge(entrez_df.merge(grouped_df))\n",
    "grouped_df = grouped_df.sort(['doid_code', 'count', 'Symbol'], ascending=[True, False, True])"
   ]
  },
  {
   "cell_type": "code",
   "execution_count": 8,
   "metadata": {
    "collapsed": false
   },
   "outputs": [
    {
     "data": {
      "text/html": [
       "<div>\n",
       "<table border=\"1\" class=\"dataframe\">\n",
       "  <thead>\n",
       "    <tr style=\"text-align: right;\">\n",
       "      <th></th>\n",
       "      <th>doid_code</th>\n",
       "      <th>doid_name</th>\n",
       "      <th>GeneID</th>\n",
       "      <th>Symbol</th>\n",
       "      <th>count</th>\n",
       "    </tr>\n",
       "  </thead>\n",
       "  <tbody>\n",
       "    <tr>\n",
       "      <th>40612</th>\n",
       "      <td>DOID:0001816</td>\n",
       "      <td>angiosarcoma</td>\n",
       "      <td>302</td>\n",
       "      <td>ANXA2</td>\n",
       "      <td>1</td>\n",
       "    </tr>\n",
       "    <tr>\n",
       "      <th>40613</th>\n",
       "      <td>DOID:0001816</td>\n",
       "      <td>angiosarcoma</td>\n",
       "      <td>595</td>\n",
       "      <td>CCND1</td>\n",
       "      <td>1</td>\n",
       "    </tr>\n",
       "    <tr>\n",
       "      <th>40614</th>\n",
       "      <td>DOID:0001816</td>\n",
       "      <td>angiosarcoma</td>\n",
       "      <td>2324</td>\n",
       "      <td>FLT4</td>\n",
       "      <td>1</td>\n",
       "    </tr>\n",
       "    <tr>\n",
       "      <th>40615</th>\n",
       "      <td>DOID:0001816</td>\n",
       "      <td>angiosarcoma</td>\n",
       "      <td>3091</td>\n",
       "      <td>HIF1A</td>\n",
       "      <td>1</td>\n",
       "    </tr>\n",
       "    <tr>\n",
       "      <th>40616</th>\n",
       "      <td>DOID:0001816</td>\n",
       "      <td>angiosarcoma</td>\n",
       "      <td>3791</td>\n",
       "      <td>KDR</td>\n",
       "      <td>1</td>\n",
       "    </tr>\n",
       "  </tbody>\n",
       "</table>\n",
       "</div>"
      ],
      "text/plain": [
       "          doid_code     doid_name  GeneID Symbol  count\n",
       "40612  DOID:0001816  angiosarcoma     302  ANXA2      1\n",
       "40613  DOID:0001816  angiosarcoma     595  CCND1      1\n",
       "40614  DOID:0001816  angiosarcoma    2324   FLT4      1\n",
       "40615  DOID:0001816  angiosarcoma    3091  HIF1A      1\n",
       "40616  DOID:0001816  angiosarcoma    3791    KDR      1"
      ]
     },
     "execution_count": 8,
     "metadata": {},
     "output_type": "execute_result"
    }
   ],
   "source": [
    "grouped_df.head()"
   ]
  },
  {
   "cell_type": "code",
   "execution_count": 9,
   "metadata": {
    "collapsed": false
   },
   "outputs": [],
   "source": [
    "grouped_df.to_csv('data/doaf.tsv', sep='\\t', index=False)"
   ]
  }
 ],
 "metadata": {
  "kernelspec": {
   "display_name": "Python 3",
   "language": "python",
   "name": "python3"
  },
  "language_info": {
   "codemirror_mode": {
    "name": "ipython",
    "version": 3
   },
   "file_extension": ".py",
   "mimetype": "text/x-python",
   "name": "python",
   "nbconvert_exporter": "python",
   "pygments_lexer": "ipython3",
   "version": "3.4.3"
  }
 },
 "nbformat": 4,
 "nbformat_minor": 0
}
